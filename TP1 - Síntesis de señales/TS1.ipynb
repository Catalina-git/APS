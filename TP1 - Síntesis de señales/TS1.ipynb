{
 "cells": [
  {
   "cell_type": "markdown",
   "id": "f666adf0-5e28-4be3-aa43-a987985c0bff",
   "metadata": {},
   "source": [
    "<img src=\"logo_UNSAM.jpg\" align=\"right\" width=\"150\">\n",
    "\n",
    "#### Análisis y Procesamiento de Señales\n",
    "\n",
    "# *TS1 - Sintesis de señales*\n",
    "\n",
    "### *Autora: Catalina Gonzalez Araujo*"
   ]
  },
  {
   "cell_type": "markdown",
   "id": "1f8494f3-9d34-46a3-a211-b6450426a426",
   "metadata": {},
   "source": [
    "# <u>**Introducción teorica**</u>\n",
    "\n",
    "Una señal puede caracterizarse mediante parametros como: \n",
    "- Amplitud: es el valor maximo de la onda.\n",
    "- Frecuencia: cantidad de ciclos por segundo.\n",
    "- Fase: desplazamiento de la onda respecto al origen.\n",
    "- Energia y potencia: son magnitudes que me permiten medir la intensidad de la señal.\n",
    "\n",
    "En el presente informe se trabajo con distintos tipos de señales, como por ejemplo, señales sinusoidales, las cuales son periodicas, y pueden descomponerse en una suma de ellas (Serie de Fourier). Ademas, variando los parametros de la señal sinusoidal, podemos observar como se comportan las señales en distintos casos. \n",
    "\n",
    "Otras señales analizadas en el presente trabajo son las señales cuadradas y los pulsos rectangulares. \n",
    "\n",
    "Por otro lado, se estudio la ortogonalidad y la correlacion entre las distintas señales, lo cual permite evaluar la independencia y la similitud entre señales. \n",
    "- La ortogonalidad entre señales significa que no existe correlacion ni interferencia entre ellas. Matematicamente, esto ocurre cuando el producto interno o producto escalar entre las dos señales es cero.\n",
    "- La correlacion permite medir similitudes entre dos señales. Se calcula mediante un proceso matematico que busca los puntos en donde se solapan una señal y una version desplazada de otra señal. Los picos altos indican alta similitud. Si se realiza este proceso en una misma señal, se denomina autocorrelacion.\n",
    "\n",
    "Adicionalmente, se analizo la propiedad trigonometrica (), la cual facilitan la manipulacion de señales senoidales y muetra la relacion que hay entre las distitas maneras de representar señales. \n",
    "\n",
    "Finalmente, se observo como se comporta un efecto de sonido [efecto de sonido](\"C:\\Users\\Usuario\\Documents\\Cata\\UNSAM\\3er año\\APS\\APS\\TP1 - Síntesis de señales\\sonido.wav\") graficamente, y la forma de onda que este genera. "
   ]
  },
  {
   "cell_type": "code",
   "execution_count": null,
   "id": "9215b16d-7092-45ea-adc7-4207341d44cc",
   "metadata": {},
   "outputs": [],
   "source": []
  }
 ],
 "metadata": {
  "kernelspec": {
   "display_name": "Python 3 (ipykernel)",
   "language": "python",
   "name": "python3"
  },
  "language_info": {
   "codemirror_mode": {
    "name": "ipython",
    "version": 3
   },
   "file_extension": ".py",
   "mimetype": "text/x-python",
   "name": "python",
   "nbconvert_exporter": "python",
   "pygments_lexer": "ipython3",
   "version": "3.13.2"
  }
 },
 "nbformat": 4,
 "nbformat_minor": 5
}
